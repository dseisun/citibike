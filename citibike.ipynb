{
 "cells": [
  {
   "cell_type": "code",
   "execution_count": 48,
   "metadata": {},
   "outputs": [],
   "source": [
    "# What do you want to do\n",
    "# Get the index of citibike files, pull them, extract them\n",
    "# Helpful link https://medium.com/@fausto.manon/building-a-citibike-database-with-python-9849a59fb90c\n",
    "import pandas as pd\n",
    "import requests\n",
    "from bs4 import BeautifulSoup\n",
    "import csv\n",
    "import zipfile\n",
    "import logging\n",
    "import matplotlib"
   ]
  },
  {
   "cell_type": "code",
   "execution_count": null,
   "metadata": {},
   "outputs": [],
   "source": [
    "pd.read_csv('extracted_data/202207-citbike-tripdata.csv')"
   ]
  },
  {
   "cell_type": "code",
   "execution_count": 7,
   "metadata": {},
   "outputs": [],
   "source": [
    "url = 'https://s3.amazonaws.com/tripdata/'"
   ]
  },
  {
   "cell_type": "code",
   "execution_count": 8,
   "metadata": {},
   "outputs": [],
   "source": [
    "resp = requests.get(url)"
   ]
  },
  {
   "cell_type": "code",
   "execution_count": 9,
   "metadata": {},
   "outputs": [],
   "source": [
    "parsed_xml = BeautifulSoup(resp.text, 'xml')"
   ]
  },
  {
   "cell_type": "code",
   "execution_count": 10,
   "metadata": {},
   "outputs": [],
   "source": [
    "keys = [content.Key.text for content in parsed_xml.ListBucketResult.find_all('Contents')]"
   ]
  },
  {
   "cell_type": "code",
   "execution_count": 11,
   "metadata": {},
   "outputs": [],
   "source": [
    "for key in keys:\n",
    "    with open('data/%s' % key, 'wb') as outfile:\n",
    "        resp = requests.get(url + key)\n",
    "        outfile.write(resp.content)\n"
   ]
  },
  {
   "cell_type": "code",
   "execution_count": 9,
   "metadata": {},
   "outputs": [
    {
     "name": "stderr",
     "output_type": "stream",
     "text": [
      "ERROR:root:Multiple eligible files found in 201307-201402-citibike-tripdata.zip. Not extracting\n"
     ]
    }
   ],
   "source": [
    "for key in keys:\n",
    "    if key.endswith('.zip'):\n",
    "        path = 'data/%s' % key\n",
    "        if not zipfile.is_zipfile(path):\n",
    "            logging.error('%s is not a valid zipfile' % path)\n",
    "        with zipfile.ZipFile(path, 'r') as ref:\n",
    "            files = list(filter(lambda x: x.endswith('.csv') and not x.startswith('__'), ref.namelist()))\n",
    "            if len(files) == 1:\n",
    "                file = files[0]\n",
    "                ref.extract(file, path='extracted_data/')\n",
    "            else:\n",
    "                logging.error('Multiple eligible files found in %s. Not extracting' % key)"
   ]
  },
  {
   "cell_type": "code",
   "execution_count": 13,
   "metadata": {},
   "outputs": [
    {
     "name": "stderr",
     "output_type": "stream",
     "text": [
      "/tmp/ipykernel_32597/4000290333.py:1: DtypeWarning: Columns (5,7) have mixed types. Specify dtype option on import or set low_memory=False.\n",
      "  test_file = pd.read_csv('extracted_data/202207-citbike-tripdata.csv')\n"
     ]
    }
   ],
   "source": [
    "test_file = pd.read_csv('extracted_data/202207-citbike-tripdata.csv')"
   ]
  },
  {
   "cell_type": "code",
   "execution_count": 25,
   "metadata": {},
   "outputs": [
    {
     "data": {
      "text/plain": [
       "classic_bike     2631191\n",
       "electric_bike     828110\n",
       "docked_bike        38089\n",
       "Name: rideable_type, dtype: int64"
      ]
     },
     "execution_count": 25,
     "metadata": {},
     "output_type": "execute_result"
    }
   ],
   "source": [
    "test_file['rideable_type'].value_counts()"
   ]
  },
  {
   "cell_type": "code",
   "execution_count": 28,
   "metadata": {},
   "outputs": [
    {
     "data": {
      "text/plain": [
       "member    2659420\n",
       "casual     837970\n",
       "Name: member_casual, dtype: int64"
      ]
     },
     "execution_count": 28,
     "metadata": {},
     "output_type": "execute_result"
    }
   ],
   "source": [
    "test_file['member_casual'].value_counts()"
   ]
  },
  {
   "cell_type": "code",
   "execution_count": 27,
   "metadata": {},
   "outputs": [
    {
     "data": {
      "text/plain": [
       "West St & Chambers St       15901\n",
       "W 21 St & 6 Ave             13516\n",
       "Broadway & W 58 St          12795\n",
       "Broadway & E 14 St          12681\n",
       "6 Ave & W 33 St             12632\n",
       "                            ...  \n",
       "Morgan WH station              17\n",
       "Morgan Loading Docks           15\n",
       "Nassau St\\t& Duffield St       14\n",
       "54 St & 37 Ave                 10\n",
       "Lab - NYC                       2\n",
       "Name: start_station_name, Length: 1583, dtype: int64"
      ]
     },
     "execution_count": 27,
     "metadata": {},
     "output_type": "execute_result"
    }
   ],
   "source": [
    "test_file['start_station_name'].value_counts()"
   ]
  },
  {
   "cell_type": "code",
   "execution_count": 40,
   "metadata": {},
   "outputs": [
    {
     "data": {
      "text/plain": [
       "end_station_name\n",
       "Milton St & Franklin St         1590\n",
       "Franklin St & Dupont St         1189\n",
       "Eastern Pkwy & Franklin Ave     1151\n",
       "Huron St & Franklin St           954\n",
       "Dean St & Franklin Ave           798\n",
       "DeKalb Ave & Franklin Ave        762\n",
       "Franklin Ave & St Marks Ave      688\n",
       "Park Pl & Franklin Ave           511\n",
       "Franklin St & W Broadway         471\n",
       "Lefferts Pl & Franklin Ave       445\n",
       "Franklin Ave & Myrtle Ave        381\n",
       "Sullivan Pl & Franklin Ave       322\n",
       "Carroll St & Franklin Ave        281\n",
       "Franklin Ave & E 169 St          241\n",
       "3 Ave & Franklin Ave             200\n",
       "Montgomery St & Franklin Ave     148\n",
       "E 167 St & Franklin Ave          115\n",
       "dtype: int64"
      ]
     },
     "execution_count": 40,
     "metadata": {},
     "output_type": "execute_result"
    }
   ],
   "source": [
    "test_file[test_file['rideable_type'] == 'electric_bike'].value_counts('end_station_name').filter(regex= '.*Franklin.*')\n"
   ]
  },
  {
   "cell_type": "code",
   "execution_count": 42,
   "metadata": {},
   "outputs": [],
   "source": [
    "ebikes = test_file[test_file['rideable_type'] == 'electric_bike']"
   ]
  },
  {
   "cell_type": "code",
   "execution_count": 53,
   "metadata": {},
   "outputs": [
    {
     "data": {
      "text/plain": [
       "<AxesSubplot:ylabel='Frequency'>"
      ]
     },
     "execution_count": 53,
     "metadata": {},
     "output_type": "execute_result"
    },
    {
     "data": {
      "image/png": "[encoded data removed]",
      "text/plain": [
       "<Figure size 640x480 with 1 Axes>"
      ]
     },
     "metadata": {},
     "output_type": "display_data"
    }
   ],
   "source": [
    "ebikes['start_station_name'].value_counts().plot.hist(bins=100)"
   ]
  },
  {
   "cell_type": "code",
   "execution_count": 66,
   "metadata": {},
   "outputs": [
    {
     "data": {
      "text/html": [
       "<div>\n",
       "<style scoped>\n",
       "    .dataframe tbody tr th:only-of-type {\n",
       "        vertical-align: middle;\n",
       "    }\n",
       "\n",
       "    .dataframe tbody tr th {\n",
       "        vertical-align: top;\n",
       "    }\n",
       "\n",
       "    .dataframe thead th {\n",
       "        text-align: right;\n",
       "    }\n",
       "</style>\n",
       "<table border=\"1\" class=\"dataframe\">\n",
       "  <thead>\n",
       "    <tr style=\"text-align: right;\">\n",
       "      <th></th>\n",
       "      <th>index</th>\n",
       "      <th>start_station_name</th>\n",
       "    </tr>\n",
       "  </thead>\n",
       "  <tbody>\n",
       "    <tr>\n",
       "      <th>0</th>\n",
       "      <td>Broadway &amp; W 58 St</td>\n",
       "      <td>3363</td>\n",
       "    </tr>\n",
       "    <tr>\n",
       "      <th>1</th>\n",
       "      <td>1 Ave &amp; E 68 St</td>\n",
       "      <td>3147</td>\n",
       "    </tr>\n",
       "    <tr>\n",
       "      <th>2</th>\n",
       "      <td>6 Ave &amp; W 33 St</td>\n",
       "      <td>2530</td>\n",
       "    </tr>\n",
       "    <tr>\n",
       "      <th>3</th>\n",
       "      <td>7 Ave &amp; Central Park South</td>\n",
       "      <td>2521</td>\n",
       "    </tr>\n",
       "    <tr>\n",
       "      <th>4</th>\n",
       "      <td>11 Ave &amp; W 41 St</td>\n",
       "      <td>2493</td>\n",
       "    </tr>\n",
       "    <tr>\n",
       "      <th>...</th>\n",
       "      <td>...</td>\n",
       "      <td>...</td>\n",
       "    </tr>\n",
       "    <tr>\n",
       "      <th>1570</th>\n",
       "      <td>55 St &amp; Northern Blvd</td>\n",
       "      <td>5</td>\n",
       "    </tr>\n",
       "    <tr>\n",
       "      <th>1571</th>\n",
       "      <td>9 Ave &amp; W 204 St</td>\n",
       "      <td>5</td>\n",
       "    </tr>\n",
       "    <tr>\n",
       "      <th>1572</th>\n",
       "      <td>Morgan Loading Docks</td>\n",
       "      <td>2</td>\n",
       "    </tr>\n",
       "    <tr>\n",
       "      <th>1573</th>\n",
       "      <td>54 St &amp; 37 Ave</td>\n",
       "      <td>1</td>\n",
       "    </tr>\n",
       "    <tr>\n",
       "      <th>1574</th>\n",
       "      <td>9 Ave &amp; W 219 St</td>\n",
       "      <td>1</td>\n",
       "    </tr>\n",
       "  </tbody>\n",
       "</table>\n",
       "<p>1575 rows × 2 columns</p>\n",
       "</div>"
      ],
      "text/plain": [
       "                           index  start_station_name\n",
       "0             Broadway & W 58 St                3363\n",
       "1                1 Ave & E 68 St                3147\n",
       "2                6 Ave & W 33 St                2530\n",
       "3     7 Ave & Central Park South                2521\n",
       "4               11 Ave & W 41 St                2493\n",
       "...                          ...                 ...\n",
       "1570       55 St & Northern Blvd                   5\n",
       "1571            9 Ave & W 204 St                   5\n",
       "1572        Morgan Loading Docks                   2\n",
       "1573              54 St & 37 Ave                   1\n",
       "1574            9 Ave & W 219 St                   1\n",
       "\n",
       "[1575 rows x 2 columns]"
      ]
     },
     "execution_count": 66,
     "metadata": {},
     "output_type": "execute_result"
    }
   ],
   "source": [
    "ebikes['start_station_name'].value_counts().reset_index()"
   ]
  },
  {
   "cell_type": "code",
   "execution_count": null,
   "metadata": {},
   "outputs": [],
   "source": []
  }
 ],
 "metadata": {
  "kernelspec": {
   "display_name": "Python 3 (ipykernel)",
   "language": "python",
   "name": "python3"
  },
  "language_info": {
   "codemirror_mode": {
    "name": "ipython",
    "version": 3
   },
   "file_extension": ".py",
   "mimetype": "text/x-python",
   "name": "python",
   "nbconvert_exporter": "python",
   "pygments_lexer": "ipython3",
   "version": "3.10.6"
  },
  "vscode": {
   "interpreter": {
    "hash": "b5da2fa0b7200dc77f5c3594937bc03a84b62285cfb12d0775003ebc253a020a"
   }
  }
 },
 "nbformat": 4,
 "nbformat_minor": 4
}
